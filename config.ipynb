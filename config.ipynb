{
 "cells": [
  {
   "cell_type": "code",
   "execution_count": 1,
   "id": "96761d40",
   "metadata": {},
   "outputs": [],
   "source": [
    "from pathlib import Path\n",
    "\n",
    "class Config:\n",
    "    RANDOM_SEED = 42\n",
    "    ASSETS_PATH = Path(\"../\")\n",
    "    REPO = r\"E:\\AI and Data Science\\NEXT HIKES 2\\models\"\n",
    "    MODELS_PATH = ASSETS_PATH / \"models\"\n",
    "    DATASET_FILE_PATH = \"data/store.csv\"\n",
    "    DATASET_PATH = ASSETS_PATH / \"data\"\n",
    "    FEATURES_PATH = ASSETS_PATH / \"features\"\n",
    "    MODELS_PATH = ASSETS_PATH / \"models\"\n",
    "    METRICS_FILE_PATH = ASSETS_PATH / \"metrics\""
   ]
  },
  {
   "cell_type": "code",
   "execution_count": null,
   "id": "d177bc15",
   "metadata": {},
   "outputs": [],
   "source": []
  }
 ],
 "metadata": {
  "kernelspec": {
   "display_name": "Python 3 (ipykernel)",
   "language": "python",
   "name": "python3"
  },
  "language_info": {
   "codemirror_mode": {
    "name": "ipython",
    "version": 3
   },
   "file_extension": ".py",
   "mimetype": "text/x-python",
   "name": "python",
   "nbconvert_exporter": "python",
   "pygments_lexer": "ipython3",
   "version": "3.10.9"
  }
 },
 "nbformat": 4,
 "nbformat_minor": 5
}
